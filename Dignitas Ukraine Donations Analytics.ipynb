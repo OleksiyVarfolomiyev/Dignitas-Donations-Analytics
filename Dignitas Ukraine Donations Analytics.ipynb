{
 "cells": [
  {
   "cell_type": "markdown",
   "id": "9ff65c59",
   "metadata": {
    "hideCode": true,
    "hidePrompt": true
   },
   "source": [
    "# Dignitas Ukraine Donations Analytics"
   ]
  },
  {
   "cell_type": "code",
   "execution_count": 27,
   "id": "632743a6",
   "metadata": {
    "hideCode": true,
    "hidePrompt": true
   },
   "outputs": [],
   "source": [
    "# ETL\n",
    "\n",
    "import pandas as pd\n",
    "\n",
    "df = pd.read_excel('./data/Dignitas Ukraine donations.xlsx', sheet_name='Chase5315_Activity_20230607',index_col=None, \n",
    "                   usecols = 'A, B, C, D')\n",
    "\n",
    "#df = df[df['Gross']>0]\n",
    "#df[df['Description'].str.contains('zelle', case=False, regex=True)]['Description'] = 'Zelle'\n",
    "\n",
    "def extract_donation_method(word):\n",
    "    df['Description'] = df['Description'].str.replace('.*' + word + '.*', word, regex=True)\n",
    "\n",
    "word = 'Zelle'\n",
    "extract_donation_method(word)\n",
    "\n",
    "word = 'Square'\n",
    "extract_donation_method(word)\n",
    "\n",
    "word = 'VENMO'\n",
    "extract_donation_method(word)\n",
    "\n",
    "word = 'GOOGLE'\n",
    "extract_donation_method(word)\n",
    "\n",
    "word = 'CASH'\n",
    "extract_donation_method(word)\n",
    "\n",
    "word = 'DEPOSIT'\n",
    "extract_donation_method(word)"
   ]
  },
  {
   "cell_type": "markdown",
   "id": "a84b86fc",
   "metadata": {
    "hideCode": true,
    "hidePrompt": true
   },
   "source": [
    "## Totally raised"
   ]
  },
  {
   "cell_type": "code",
   "execution_count": 19,
   "id": "272c9692",
   "metadata": {
    "hideCode": true,
    "hidePrompt": true
   },
   "outputs": [
    {
     "data": {
      "text/plain": [
       "'$7,531.25'"
      ]
     },
     "execution_count": 19,
     "metadata": {},
     "output_type": "execute_result"
    }
   ],
   "source": [
    "'${:,.2f}'.format(df['Amount'].sum())"
   ]
  },
  {
   "cell_type": "markdown",
   "id": "c4a3ca81",
   "metadata": {
    "hideCode": true,
    "hidePrompt": true
   },
   "source": [
    "## Donations stats"
   ]
  },
  {
   "cell_type": "code",
   "execution_count": 20,
   "id": "f40cec17",
   "metadata": {
    "hideCode": true,
    "hidePrompt": true
   },
   "outputs": [
    {
     "data": {
      "text/html": [
       "<div>\n",
       "<style scoped>\n",
       "    .dataframe tbody tr th:only-of-type {\n",
       "        vertical-align: middle;\n",
       "    }\n",
       "\n",
       "    .dataframe tbody tr th {\n",
       "        vertical-align: top;\n",
       "    }\n",
       "\n",
       "    .dataframe thead th {\n",
       "        text-align: right;\n",
       "    }\n",
       "</style>\n",
       "<table border=\"1\" class=\"dataframe\">\n",
       "  <thead>\n",
       "    <tr style=\"text-align: right;\">\n",
       "      <th></th>\n",
       "      <th>Amount</th>\n",
       "    </tr>\n",
       "  </thead>\n",
       "  <tbody>\n",
       "    <tr>\n",
       "      <th>count</th>\n",
       "      <td>20.0</td>\n",
       "    </tr>\n",
       "    <tr>\n",
       "      <th>mean</th>\n",
       "      <td>300.0</td>\n",
       "    </tr>\n",
       "    <tr>\n",
       "      <th>std</th>\n",
       "      <td>790.0</td>\n",
       "    </tr>\n",
       "    <tr>\n",
       "      <th>min</th>\n",
       "      <td>-0.0</td>\n",
       "    </tr>\n",
       "    <tr>\n",
       "      <th>25%</th>\n",
       "      <td>0.0</td>\n",
       "    </tr>\n",
       "    <tr>\n",
       "      <th>50%</th>\n",
       "      <td>30.0</td>\n",
       "    </tr>\n",
       "    <tr>\n",
       "      <th>75%</th>\n",
       "      <td>200.0</td>\n",
       "    </tr>\n",
       "    <tr>\n",
       "      <th>max</th>\n",
       "      <td>3670.0</td>\n",
       "    </tr>\n",
       "  </tbody>\n",
       "</table>\n",
       "</div>"
      ],
      "text/plain": [
       "       Amount\n",
       "count    20.0\n",
       "mean    300.0\n",
       "std     790.0\n",
       "min      -0.0\n",
       "25%       0.0\n",
       "50%      30.0\n",
       "75%     200.0\n",
       "max    3670.0"
      ]
     },
     "execution_count": 20,
     "metadata": {},
     "output_type": "execute_result"
    }
   ],
   "source": [
    "pd.DataFrame(round(df['Amount'].describe()/10)*10)"
   ]
  },
  {
   "cell_type": "markdown",
   "id": "2629538f",
   "metadata": {
    "hideCode": true,
    "hidePrompt": true
   },
   "source": [
    "## Most common donation amounts"
   ]
  },
  {
   "cell_type": "code",
   "execution_count": 22,
   "id": "ff8cdb4e",
   "metadata": {
    "hideCode": true,
    "hidePrompt": true
   },
   "outputs": [
    {
     "data": {
      "text/html": [
       "<div>\n",
       "<style scoped>\n",
       "    .dataframe tbody tr th:only-of-type {\n",
       "        vertical-align: middle;\n",
       "    }\n",
       "\n",
       "    .dataframe tbody tr th {\n",
       "        vertical-align: top;\n",
       "    }\n",
       "\n",
       "    .dataframe thead th {\n",
       "        text-align: right;\n",
       "    }\n",
       "</style>\n",
       "<table border=\"1\" class=\"dataframe\">\n",
       "  <thead>\n",
       "    <tr style=\"text-align: right;\">\n",
       "      <th></th>\n",
       "      <th>Frequency</th>\n",
       "    </tr>\n",
       "    <tr>\n",
       "      <th>Amount</th>\n",
       "      <th></th>\n",
       "    </tr>\n",
       "  </thead>\n",
       "  <tbody>\n",
       "    <tr>\n",
       "      <th>40.0</th>\n",
       "      <td>3</td>\n",
       "    </tr>\n",
       "    <tr>\n",
       "      <th>10.0</th>\n",
       "      <td>1</td>\n",
       "    </tr>\n",
       "    <tr>\n",
       "      <th>230.0</th>\n",
       "      <td>1</td>\n",
       "    </tr>\n",
       "    <tr>\n",
       "      <th>640.0</th>\n",
       "      <td>1</td>\n",
       "    </tr>\n",
       "  </tbody>\n",
       "</table>\n",
       "</div>"
      ],
      "text/plain": [
       "        Frequency\n",
       "Amount           \n",
       "40.0            3\n",
       "10.0            1\n",
       "230.0           1\n",
       "640.0           1"
      ]
     },
     "execution_count": 22,
     "metadata": {},
     "output_type": "execute_result"
    }
   ],
   "source": [
    "from collections import Counter\n",
    "\n",
    "most_common = pd.DataFrame(Counter(df['Amount']).most_common(10),columns =['Amount', 'Frequency'])\n",
    "most_common['Amount'] = round(most_common['Amount'] / 10)*10\n",
    "most_common = most_common.groupby('Amount').sum().sort_values(by='Frequency', ascending = False)\n",
    "most_common[most_common.index > 0]\n"
   ]
  },
  {
   "cell_type": "code",
   "execution_count": 24,
   "id": "a9932096",
   "metadata": {
    "hideCode": true,
    "hidePrompt": true
   },
   "outputs": [
    {
     "data": {
      "text/plain": [
       "'$202.77'"
      ]
     },
     "execution_count": 24,
     "metadata": {},
     "output_type": "execute_result"
    }
   ],
   "source": [
    "'${:,.2f}'.format(round(df['Amount'].groupby(df['Posting Date'].dt.to_period('D')).sum().median(), 2))"
   ]
  },
  {
   "cell_type": "markdown",
   "id": "8815b898",
   "metadata": {
    "hideCode": true,
    "hidePrompt": true
   },
   "source": [
    "## Donations by date"
   ]
  },
  {
   "cell_type": "code",
   "execution_count": 25,
   "id": "ddacfcbc",
   "metadata": {
    "hideCode": true,
    "hidePrompt": true
   },
   "outputs": [
    {
     "data": {
      "image/png": "[encoded data removed]",
      "text/plain": [
       "<Figure size 640x480 with 1 Axes>"
      ]
     },
     "metadata": {},
     "output_type": "display_data"
    }
   ],
   "source": [
    "import warnings\n",
    "warnings.filterwarnings('ignore')\n",
    "\n",
    "import matplotlib.pyplot as plt\n",
    "fig, ax = plt.subplots()\n",
    "\n",
    "\n",
    "df['Amount'].groupby(df['Posting Date'].dt.to_period('D')).sum().plot(kind='bar', xlabel='')\n",
    "\n",
    "# dollar ticks\n",
    "ax.yaxis.set_major_formatter('${x:,.0f}')\n",
    "ax.yaxis.set_tick_params(which='major', labelcolor='green',\n",
    "                         labelleft=True, labelright=False)\n",
    "plt.show()"
   ]
  },
  {
   "cell_type": "markdown",
   "id": "075870a9",
   "metadata": {
    "hideCode": true,
    "hidePrompt": true
   },
   "source": [
    "## Donations by payment method"
   ]
  },
  {
   "cell_type": "code",
   "execution_count": 26,
   "id": "6920f7ce",
   "metadata": {
    "hideCode": true,
    "hidePrompt": true
   },
   "outputs": [
    {
     "data": {
      "text/html": [
       "<div>\n",
       "<style scoped>\n",
       "    .dataframe tbody tr th:only-of-type {\n",
       "        vertical-align: middle;\n",
       "    }\n",
       "\n",
       "    .dataframe tbody tr th {\n",
       "        vertical-align: top;\n",
       "    }\n",
       "\n",
       "    .dataframe thead th {\n",
       "        text-align: right;\n",
       "    }\n",
       "</style>\n",
       "<table border=\"1\" class=\"dataframe\">\n",
       "  <thead>\n",
       "    <tr style=\"text-align: right;\">\n",
       "      <th></th>\n",
       "      <th>Amount</th>\n",
       "    </tr>\n",
       "    <tr>\n",
       "      <th>Description</th>\n",
       "      <th></th>\n",
       "    </tr>\n",
       "  </thead>\n",
       "  <tbody>\n",
       "    <tr>\n",
       "      <th>DEPOSIT</th>\n",
       "      <td>4610.00</td>\n",
       "    </tr>\n",
       "    <tr>\n",
       "      <th>Zelle</th>\n",
       "      <td>2674.00</td>\n",
       "    </tr>\n",
       "    <tr>\n",
       "      <th>VENMO</th>\n",
       "      <td>230.54</td>\n",
       "    </tr>\n",
       "    <tr>\n",
       "      <th>CASH</th>\n",
       "      <td>11.00</td>\n",
       "    </tr>\n",
       "    <tr>\n",
       "      <th>Square</th>\n",
       "      <td>5.64</td>\n",
       "    </tr>\n",
       "    <tr>\n",
       "      <th>GOOGLE</th>\n",
       "      <td>0.07</td>\n",
       "    </tr>\n",
       "  </tbody>\n",
       "</table>\n",
       "</div>"
      ],
      "text/plain": [
       "              Amount\n",
       "Description         \n",
       "DEPOSIT      4610.00\n",
       "Zelle        2674.00\n",
       "VENMO         230.54\n",
       "CASH           11.00\n",
       "Square          5.64\n",
       "GOOGLE          0.07"
      ]
     },
     "execution_count": 26,
     "metadata": {},
     "output_type": "execute_result"
    }
   ],
   "source": [
    "pd.DataFrame(df.groupby('Description').sum('Amount').sort_values(\n",
    "    by='Amount', ascending=False)['Amount'])"
   ]
  },
  {
   "cell_type": "markdown",
   "id": "336f7191",
   "metadata": {
    "hideCode": true,
    "hidePrompt": true
   },
   "source": [
    "# Are you joining Dignitas Ukraine Donors?!"
   ]
  }
 ],
 "metadata": {
  "hide_code_all_hidden": true,
  "kernelspec": {
   "display_name": "Python 3 (ipykernel)",
   "language": "python",
   "name": "python3"
  },
  "language_info": {
   "codemirror_mode": {
    "name": "ipython",
    "version": 3
   },
   "file_extension": ".py",
   "mimetype": "text/x-python",
   "name": "python",
   "nbconvert_exporter": "python",
   "pygments_lexer": "ipython3",
   "version": "3.10.9"
  }
 },
 "nbformat": 4,
 "nbformat_minor": 5
}
