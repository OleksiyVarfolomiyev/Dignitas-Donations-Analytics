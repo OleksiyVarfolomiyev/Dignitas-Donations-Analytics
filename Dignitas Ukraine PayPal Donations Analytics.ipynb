{
 "cells": [
  {
   "cell_type": "markdown",
   "id": "4623426d",
   "metadata": {
    "hideCode": false,
    "hidePrompt": false
   },
   "source": [
    "# Dignitas Ukraine PayPal Donations Analytics"
   ]
  },
  {
   "cell_type": "code",
   "execution_count": 34,
   "id": "92194cbe",
   "metadata": {
    "hideCode": false,
    "hidePrompt": false
   },
   "outputs": [
    {
     "name": "stdout",
     "output_type": "stream",
     "text": [
      "         Date              Type   Gross    Net Custom Number         Country\n",
      "0  2023-05-08   General Payment    1.00   1.00   GeneralPage   Not specified\n",
      "1  2023-05-08   General Payment    1.00   0.97   GeneralPage   United States\n",
      "2  2023-05-08      Payment Hold   -0.97  -0.97   GeneralPage   Not specified\n",
      "3  2023-05-08   General Payment    1.50   1.46   GeneralPage   Not specified\n",
      "4  2023-05-08  Donation Payment    1.25   0.72   GeneralPage   Not specified\n",
      "..        ...               ...     ...    ...           ...             ...\n",
      "51 2023-05-19  Donation Payment  103.48  98.45   GeneralPage          Canada\n",
      "52 2023-05-19  Donation Payment   50.00  47.31   GeneralPage  United Kingdom\n",
      "53 2023-05-19  Donation Payment   25.00  23.79    1000DRONES   United States\n",
      "54 2023-05-19  Donation Payment   30.00  28.64    1000DRONES   United States\n",
      "55 2023-05-19  Donation Payment   51.99  50.00   GeneralPage   United States\n"
     ]
    }
   ],
   "source": [
    "import pandas as pd\n",
    "\n",
    "df = pd.read_excel('./data/PayPal Donations All.xlsx', sheet_name='Sheet1',index_col=None, \n",
    "                   usecols = 'A, E, G, I, J, N')\n",
    "df = df.fillna('Not specified')\n",
    "print(df.to_string(max_rows=10)) "
   ]
  },
  {
   "cell_type": "markdown",
   "id": "3631d1d5",
   "metadata": {
    "hideCode": false,
    "hidePrompt": false
   },
   "source": [
    "## Number of donations by country"
   ]
  },
  {
   "cell_type": "code",
   "execution_count": 2,
   "id": "b8d48aa8",
   "metadata": {
    "hideCode": false,
    "hidePrompt": false
   },
   "outputs": [
    {
     "data": {
      "text/plain": [
       "Not specified     23\n",
       "United States     14\n",
       "Germany            8\n",
       "United Kingdom     3\n",
       "Ukraine            2\n",
       "France             1\n",
       "Denmark            1\n",
       "Italy              1\n",
       "Belgium            1\n",
       "Poland             1\n",
       "Canada             1\n",
       "Name: Country, dtype: int64"
      ]
     },
     "execution_count": 2,
     "metadata": {},
     "output_type": "execute_result"
    }
   ],
   "source": [
    "df['Country'].value_counts()"
   ]
  },
  {
   "cell_type": "markdown",
   "id": "1e10e2cd",
   "metadata": {
    "hideCode": false,
    "hidePrompt": false
   },
   "source": [
    "## Totally raised"
   ]
  },
  {
   "cell_type": "code",
   "execution_count": 3,
   "id": "b896862f",
   "metadata": {
    "hideCode": false,
    "hidePrompt": false
   },
   "outputs": [
    {
     "data": {
      "text/plain": [
       "'$2,417.84'"
      ]
     },
     "execution_count": 3,
     "metadata": {},
     "output_type": "execute_result"
    }
   ],
   "source": [
    "'${:,.2f}'.format(df['Net'].sum())"
   ]
  },
  {
   "cell_type": "markdown",
   "id": "0834aac1",
   "metadata": {
    "hideCode": false,
    "hidePrompt": false
   },
   "source": [
    "## Donation amount stats"
   ]
  },
  {
   "cell_type": "code",
   "execution_count": 4,
   "id": "4fcba34e",
   "metadata": {
    "hideCode": false,
    "hidePrompt": false
   },
   "outputs": [
    {
     "data": {
      "text/plain": [
       "count     56.0\n",
       "mean      45.0\n",
       "std       60.0\n",
       "min       -1.0\n",
       "25%        9.0\n",
       "50%       21.0\n",
       "75%       52.0\n",
       "max      309.0\n",
       "Name: Gross, dtype: float64"
      ]
     },
     "execution_count": 4,
     "metadata": {},
     "output_type": "execute_result"
    }
   ],
   "source": [
    "#'${:,.2f}'.format(round(df['Net'].median(), 0))\n",
    "round(df['Gross'].describe(), 0)"
   ]
  },
  {
   "cell_type": "markdown",
   "id": "de5a3033",
   "metadata": {
    "hideCode": false,
    "hidePrompt": false
   },
   "source": [
    "## Most common donation amounts"
   ]
  },
  {
   "cell_type": "code",
   "execution_count": 18,
   "id": "26720cd6",
   "metadata": {
    "hideCode": false,
    "hidePrompt": false
   },
   "outputs": [
    {
     "data": {
      "text/html": [
       "<div>\n",
       "<style scoped>\n",
       "    .dataframe tbody tr th:only-of-type {\n",
       "        vertical-align: middle;\n",
       "    }\n",
       "\n",
       "    .dataframe tbody tr th {\n",
       "        vertical-align: top;\n",
       "    }\n",
       "\n",
       "    .dataframe thead th {\n",
       "        text-align: right;\n",
       "    }\n",
       "</style>\n",
       "<table border=\"1\" class=\"dataframe\">\n",
       "  <thead>\n",
       "    <tr style=\"text-align: right;\">\n",
       "      <th></th>\n",
       "      <th>Amount</th>\n",
       "      <th>Frequency</th>\n",
       "    </tr>\n",
       "  </thead>\n",
       "  <tbody>\n",
       "    <tr>\n",
       "      <th>0</th>\n",
       "      <td>100.0</td>\n",
       "      <td>6</td>\n",
       "    </tr>\n",
       "    <tr>\n",
       "      <th>1</th>\n",
       "      <td>50.0</td>\n",
       "      <td>5</td>\n",
       "    </tr>\n",
       "    <tr>\n",
       "      <th>2</th>\n",
       "      <td>20.0</td>\n",
       "      <td>4</td>\n",
       "    </tr>\n",
       "    <tr>\n",
       "      <th>3</th>\n",
       "      <td>50.0</td>\n",
       "      <td>4</td>\n",
       "    </tr>\n",
       "    <tr>\n",
       "      <th>4</th>\n",
       "      <td>10.0</td>\n",
       "      <td>4</td>\n",
       "    </tr>\n",
       "    <tr>\n",
       "      <th>5</th>\n",
       "      <td>20.0</td>\n",
       "      <td>3</td>\n",
       "    </tr>\n",
       "    <tr>\n",
       "      <th>8</th>\n",
       "      <td>10.0</td>\n",
       "      <td>2</td>\n",
       "    </tr>\n",
       "    <tr>\n",
       "      <th>9</th>\n",
       "      <td>210.0</td>\n",
       "      <td>2</td>\n",
       "    </tr>\n",
       "  </tbody>\n",
       "</table>\n",
       "</div>"
      ],
      "text/plain": [
       "   Amount  Frequency\n",
       "0   100.0          6\n",
       "1    50.0          5\n",
       "2    20.0          4\n",
       "3    50.0          4\n",
       "4    10.0          4\n",
       "5    20.0          3\n",
       "8    10.0          2\n",
       "9   210.0          2"
      ]
     },
     "execution_count": 18,
     "metadata": {},
     "output_type": "execute_result"
    }
   ],
   "source": [
    "from collections import Counter\n",
    "\n",
    "most_common = pd.DataFrame(Counter(df['Gross']).most_common(10),columns =['Amount', 'Frequency'])\n",
    "most_common['Amount'] = round(most_common['Amount'] / 10)*10\n",
    "most_common.groupby('Amount').sum()\n",
    "most_common[most_common['Amount']>0]"
   ]
  },
  {
   "cell_type": "markdown",
   "id": "682a7e7b",
   "metadata": {
    "hideCode": false,
    "hidePrompt": false
   },
   "source": [
    "## Median daily donation amount"
   ]
  },
  {
   "cell_type": "code",
   "execution_count": 19,
   "id": "749cd99a",
   "metadata": {
    "hideCode": false,
    "hidePrompt": false
   },
   "outputs": [
    {
     "data": {
      "text/plain": [
       "'$131.16'"
      ]
     },
     "execution_count": 19,
     "metadata": {},
     "output_type": "execute_result"
    }
   ],
   "source": [
    "'${:,.2f}'.format(round(df['Net'].groupby(df['Date'].dt.to_period('D')).sum().median(), 2))"
   ]
  },
  {
   "cell_type": "markdown",
   "id": "8d8da41d",
   "metadata": {
    "hideCode": false,
    "hidePrompt": false
   },
   "source": [
    "## Donations by date"
   ]
  },
  {
   "cell_type": "code",
   "execution_count": 20,
   "id": "4c34799b",
   "metadata": {
    "hideCode": false,
    "hidePrompt": false
   },
   "outputs": [
    {
     "data": {
      "image/png": "[encoded data removed]",
      "text/plain": [
       "<Figure size 640x480 with 1 Axes>"
      ]
     },
     "metadata": {},
     "output_type": "display_data"
    }
   ],
   "source": [
    "import warnings\n",
    "warnings.filterwarnings('ignore')\n",
    "\n",
    "import matplotlib.pyplot as plt\n",
    "fig, ax = plt.subplots()\n",
    "\n",
    "\n",
    "df['Net'].groupby(df['Date'].dt.to_period('D')).sum().plot(kind='bar', xlabel='')\n",
    "\n",
    "# dollar ticks\n",
    "ax.yaxis.set_major_formatter('${x:,.0f}')\n",
    "ax.yaxis.set_tick_params(which='major', labelcolor='green',\n",
    "                         labelleft=True, labelright=False)\n",
    "plt.show()"
   ]
  },
  {
   "cell_type": "markdown",
   "id": "fa8a7563",
   "metadata": {
    "hideCode": false,
    "hidePrompt": false
   },
   "source": [
    "## Contributions by initiative"
   ]
  },
  {
   "cell_type": "code",
   "execution_count": 31,
   "id": "a0cb07de",
   "metadata": {
    "hideCode": false,
    "hidePrompt": false
   },
   "outputs": [
    {
     "data": {
      "text/html": [
       "<div>\n",
       "<style scoped>\n",
       "    .dataframe tbody tr th:only-of-type {\n",
       "        vertical-align: middle;\n",
       "    }\n",
       "\n",
       "    .dataframe tbody tr th {\n",
       "        vertical-align: top;\n",
       "    }\n",
       "\n",
       "    .dataframe thead th {\n",
       "        text-align: right;\n",
       "    }\n",
       "</style>\n",
       "<table border=\"1\" class=\"dataframe\">\n",
       "  <thead>\n",
       "    <tr style=\"text-align: right;\">\n",
       "      <th></th>\n",
       "      <th>Gross</th>\n",
       "      <th>Net</th>\n",
       "    </tr>\n",
       "    <tr>\n",
       "      <th>Custom Number</th>\n",
       "      <th></th>\n",
       "      <th></th>\n",
       "    </tr>\n",
       "  </thead>\n",
       "  <tbody>\n",
       "    <tr>\n",
       "      <th>1000DRONES</th>\n",
       "      <td>537.71</td>\n",
       "      <td>518.09</td>\n",
       "    </tr>\n",
       "    <tr>\n",
       "      <th>GeneralPage</th>\n",
       "      <td>1996.23</td>\n",
       "      <td>1896.84</td>\n",
       "    </tr>\n",
       "    <tr>\n",
       "      <th>MobileShowers</th>\n",
       "      <td>3.50</td>\n",
       "      <td>2.91</td>\n",
       "    </tr>\n",
       "  </tbody>\n",
       "</table>\n",
       "</div>"
      ],
      "text/plain": [
       "                 Gross      Net\n",
       "Custom Number                  \n",
       "1000DRONES      537.71   518.09\n",
       "GeneralPage    1996.23  1896.84\n",
       "MobileShowers     3.50     2.91"
      ]
     },
     "execution_count": 31,
     "metadata": {},
     "output_type": "execute_result"
    }
   ],
   "source": [
    "df.groupby('Custom Number').sum()"
   ]
  },
  {
   "cell_type": "markdown",
   "id": "97a4c8b1",
   "metadata": {
    "hideCode": false,
    "hidePrompt": false
   },
   "source": [
    "## Contributions by country"
   ]
  },
  {
   "cell_type": "code",
   "execution_count": 21,
   "id": "3284ade1",
   "metadata": {
    "hideCode": false,
    "hidePrompt": false
   },
   "outputs": [
    {
     "data": {
      "image/svg+xml": [
       "<svg class=\"main-svg\" xmlns=\"http://www.w3.org/2000/svg\" xmlns:xlink=\"http://www.w3.org/1999/xlink\" width=\"700\" height=\"500\" style=\"\" viewBox=\"0 0 700 500\"><rect x=\"0\" y=\"0\" width=\"700\" height=\"500\" style=\"fill: rgb(255, 255, 255); fill-opacity: 1;\"/><defs id=\"defs-5dc358\"><g class=\"clips\"/><g class=\"gradients\"/><g class=\"patterns\"/></defs><g class=\"bglayer\"/><g class=\"layer-below\"><g class=\"imagelayer\"/><g class=\"shapelayer\"/></g><g class=\"cartesianlayer\"/><g class=\"polarlayer\"/><g class=\"smithlayer\"/><g class=\"ternarylayer\"/><g class=\"geolayer\"/><g class=\"funnelarealayer\"/><g class=\"pielayer\"><g class=\"trace\" stroke-linejoin=\"round\" style=\"opacity: 1;\"><g class=\"slice\"><path class=\"surface\" d=\"M350,240l0,-180a180,180 0 0 1 78.05638938782903,342.1949446676301Z\" style=\"pointer-events: all; stroke-width: 0; fill: rgb(99, 110, 250); fill-opacity: 1; stroke: rgb(68, 68, 68); stroke-opacity: 1;\"/><g class=\"slicetext\"><text data-notex=\"1\" class=\"slicetext\" transform=\"translate(438.8587836995966,216.67617664902642)\" text-anchor=\"middle\" x=\"0\" y=\"0\" style=\"font-family: 'Open Sans', verdana, arial, sans-serif; font-size: 12px; fill: rgb(255, 255, 255); fill-opacity: 1; white-space: pre;\"><tspan class=\"line\" dy=\"0em\" x=\"0\" y=\"0\">Not specified</tspan><tspan class=\"line\" dy=\"1.3em\" x=\"0\" y=\"0\">42.9%</tspan></text></g></g><g class=\"slice\"><path class=\"surface\" d=\"M350,240l-166.92743816982636,67.34411916462194a180,180 0 0 1 166.92743816982636,-247.34411916462193Z\" style=\"pointer-events: all; stroke-width: 0; fill: rgb(239, 85, 59); fill-opacity: 1; stroke: rgb(68, 68, 68); stroke-opacity: 1;\"/><g class=\"slicetext\"><text data-notex=\"1\" class=\"slicetext\" transform=\"translate(268.4200817702256,181.88871037744607)\" text-anchor=\"middle\" x=\"0\" y=\"0\" style=\"font-family: 'Open Sans', verdana, arial, sans-serif; font-size: 12px; fill: rgb(68, 68, 68); fill-opacity: 1; white-space: pre;\"><tspan class=\"line\" dy=\"0em\" x=\"0\" y=\"0\">United States</tspan><tspan class=\"line\" dy=\"1.3em\" x=\"0\" y=\"0\">31.1%</tspan></text></g></g><g class=\"slice\"><path class=\"surface\" d=\"M350,240l-104.12803997690212,146.8242190191001a180,180 0 0 1 -62.799398192924244,-79.48009985447815Z\" style=\"pointer-events: all; stroke-width: 0; fill: rgb(0, 204, 150); fill-opacity: 1; stroke: rgb(68, 68, 68); stroke-opacity: 1;\"/><g class=\"slicetext\"><text data-notex=\"1\" class=\"slicetext\" transform=\"translate(239.7795520645001,324.0334994999807)\" text-anchor=\"middle\" x=\"0\" y=\"0\" style=\"font-family: 'Open Sans', verdana, arial, sans-serif; font-size: 12px; fill: rgb(68, 68, 68); fill-opacity: 1; white-space: pre;\"><tspan class=\"line\" dy=\"0em\" x=\"0\" y=\"0\">Germany</tspan><tspan class=\"line\" dy=\"1.3em\" x=\"0\" y=\"0\">9.08%</tspan></text></g></g><g class=\"slice\"><path class=\"surface\" d=\"M350,240l-60.03270004767762,169.6940627275615a180,180 0 0 1 -44.095339929224494,-22.86984370846139Z\" style=\"pointer-events: all; stroke-width: 0; fill: rgb(171, 99, 250); fill-opacity: 1; stroke: rgb(68, 68, 68); stroke-opacity: 1;\"/><g class=\"slicetext\"><text data-notex=\"1\" class=\"slicetext\" transform=\"translate(284.5296873004444,360.60158312710985)scale(0.8488176705088519)rotate(-62.586697035239695)\" text-anchor=\"middle\" x=\"0\" y=\"0\" style=\"font-family: 'Open Sans', verdana, arial, sans-serif; font-size: 12px; fill: rgb(68, 68, 68); fill-opacity: 1; white-space: pre;\"><tspan class=\"line\" dy=\"0em\" x=\"0\" y=\"0\">United Kingdom</tspan><tspan class=\"line\" dy=\"1.3em\" x=\"0\" y=\"0\">4.41%</tspan></text></g></g><g class=\"slice\"><path class=\"surface\" d=\"M350,240l-13.87762087821732,179.46423498502554a180,180 0 0 1 -46.1550791694603,-9.770172257464054Z\" style=\"pointer-events: all; stroke-width: 0; fill: rgb(255, 161, 90); fill-opacity: 1; stroke: rgb(68, 68, 68); stroke-opacity: 1;\"/><g class=\"slicetext\"><text data-notex=\"1\" class=\"slicetext\" transform=\"translate(315.4537325801099,388.44898773679)rotate(-78.0479834785898)\" text-anchor=\"middle\" x=\"0\" y=\"0\" style=\"font-family: 'Open Sans', verdana, arial, sans-serif; font-size: 12px; fill: rgb(68, 68, 68); fill-opacity: 1; white-space: pre;\"><tspan class=\"line\" dy=\"0em\" x=\"0\" y=\"0\">Belgium</tspan><tspan class=\"line\" dy=\"1.3em\" x=\"0\" y=\"0\">4.18%</tspan></text></g></g><g class=\"slice\"><path class=\"surface\" d=\"M350,240l33.230794135398234,176.90594767031092a180,180 0 0 1 -47.108415013615556,2.558287314714619Z\" style=\"pointer-events: all; stroke-width: 0; fill: rgb(25, 211, 243); fill-opacity: 1; stroke: rgb(68, 68, 68); stroke-opacity: 1;\"/><g class=\"slicetext\"><text data-notex=\"1\" class=\"slicetext\" transform=\"translate(361.3894823761393,393.39439560542075)rotate(86.89152725310305)\" text-anchor=\"middle\" x=\"0\" y=\"0\" style=\"font-family: 'Open Sans', verdana, arial, sans-serif; font-size: 12px; fill: rgb(68, 68, 68); fill-opacity: 1; white-space: pre;\"><tspan class=\"line\" dy=\"0em\" x=\"0\" y=\"0\">Canada</tspan><tspan class=\"line\" dy=\"1.3em\" x=\"0\" y=\"0\">4.18%</tspan></text></g></g><g class=\"slice\"><path class=\"surface\" d=\"M350,240l78.05638938782943,162.19494466762998a180,180 0 0 1 -44.82559525243119,14.71100300268094Z\" style=\"pointer-events: all; stroke-width: 0; fill: rgb(255, 102, 146); fill-opacity: 1; stroke: rgb(68, 68, 68); stroke-opacity: 1;\"/><g class=\"slicetext\"><text data-notex=\"1\" class=\"slicetext\" transform=\"translate(401.4795202010939,387.06588053782275)rotate(71.83103798479578)\" text-anchor=\"middle\" x=\"0\" y=\"0\" style=\"font-family: 'Open Sans', verdana, arial, sans-serif; font-size: 12px; fill: rgb(68, 68, 68); fill-opacity: 1; white-space: pre;\"><tspan class=\"line\" dy=\"0em\" x=\"0\" y=\"0\">Poland</tspan><tspan class=\"line\" dy=\"1.3em\" x=\"0\" y=\"0\">4.18%</tspan></text></g></g></g></g><g class=\"iciclelayer\"/><g class=\"treemaplayer\"/><g class=\"sunburstlayer\"/><g class=\"glimages\"/><defs id=\"topdefs-5dc358\"><g class=\"clips\"/></defs><g class=\"layer-above\"><g class=\"imagelayer\"/><g class=\"shapelayer\"/></g><g class=\"infolayer\"><g class=\"g-gtitle\"/></g></svg>"
      ]
     },
     "metadata": {},
     "output_type": "display_data"
    }
   ],
   "source": [
    "import plotly.io as pio\n",
    "pio.renderers \n",
    "import plotly.express as px\n",
    "\n",
    "df_country = df.groupby(df['Country'])['Net'].sum().sort_values(ascending=False).head(7).reset_index(name='Net')\n",
    "fig = px.pie(df_country, values = 'Net', names = 'Country', labels = \"Country\")\n",
    "fig.update_traces(textposition='inside', textinfo='percent+label', showlegend = False)\n",
    "fig.show(renderer='svg')"
   ]
  },
  {
   "cell_type": "markdown",
   "id": "fab4813c",
   "metadata": {
    "hideCode": false,
    "hidePrompt": false
   },
   "source": [
    "## Weekly amounts"
   ]
  },
  {
   "cell_type": "code",
   "execution_count": 22,
   "id": "b5745505",
   "metadata": {
    "hideCode": false,
    "hidePrompt": false
   },
   "outputs": [
    {
     "data": {
      "image/png": "[encoded data removed]",
      "text/plain": [
       "<Figure size 640x480 with 1 Axes>"
      ]
     },
     "metadata": {},
     "output_type": "display_data"
    }
   ],
   "source": [
    "fig, ax = plt.subplots()\n",
    "df_w = df.groupby([pd.Grouper(key='Date', freq='W')])['Net'].sum()\n",
    "\n",
    "# remove time from datetime\n",
    "df_w.index = df_w.index.date\n",
    "\n",
    "# remove next mo data\n",
    "#df_w = df_w[:-1]\n",
    "df_w.plot(kind = 'bar', color = 'green')\n",
    "\n",
    "# dollar ticks\n",
    "ax.yaxis.set_major_formatter('${x:,.0f}')\n",
    "ax.yaxis.set_tick_params(which='major', labelcolor='green')\n",
    "plt.show()"
   ]
  },
  {
   "cell_type": "markdown",
   "id": "d9dfbd39",
   "metadata": {
    "hideCode": false,
    "hidePrompt": false
   },
   "source": [
    "## Cumulatively raised"
   ]
  },
  {
   "cell_type": "code",
   "execution_count": 23,
   "id": "0c71ab56",
   "metadata": {
    "hideCode": false,
    "hidePrompt": false
   },
   "outputs": [
    {
     "data": {
      "image/png": "[encoded data removed]",
      "text/plain": [
       "<Figure size 640x480 with 1 Axes>"
      ]
     },
     "metadata": {},
     "output_type": "display_data"
    }
   ],
   "source": [
    "fig, ax = plt.subplots()\n",
    "\n",
    "df_w.cumsum().plot(kind = 'bar')\n",
    "# dollar ticks\n",
    "ax.yaxis.set_major_formatter('${x:,.0f}')\n",
    "ax.yaxis.set_tick_params(which='major', labelcolor='green',\n",
    "                         labelleft=True, labelright=False)\n",
    "plt.show()"
   ]
  },
  {
   "cell_type": "markdown",
   "id": "a489454d",
   "metadata": {
    "hideCode": false,
    "hidePrompt": false
   },
   "source": [
    "## We are all united"
   ]
  },
  {
   "cell_type": "code",
   "execution_count": 24,
   "id": "31622db7",
   "metadata": {
    "hideCode": false,
    "hidePrompt": false
   },
   "outputs": [
    {
     "data": {
      "image/png": "[encoded data removed]",
      "text/plain": [
       "<Figure size 640x480 with 1 Axes>"
      ]
     },
     "metadata": {},
     "output_type": "display_data"
    }
   ],
   "source": [
    "from wordcloud import WordCloud\n",
    "from wordcloud import ImageColorGenerator\n",
    "from wordcloud import STOPWORDS\n",
    "import matplotlib.pyplot as plt\n",
    "\n",
    "df['Country'] = df['Country'].replace(['United States'], 'USA')\n",
    "df['Country'] = df['Country'].replace(['New Zealand'], 'NZ')\n",
    "df['Country'] = df['Country'].replace(['Not specified'], '')\n",
    "df['Country'] = df['Country'].replace(['Czech Republic'], 'Czech')\n",
    "\n",
    "text = \" \".join(i for i in df['Country'])\n",
    "stopwords = set(STOPWORDS)\n",
    "wordcloud = WordCloud(stopwords=stopwords, background_color=\"white\").generate(text)\n",
    "#plt.figure( figsize=(15,10))\n",
    "\n",
    "plt.imshow(wordcloud, interpolation='bilinear')\n",
    "plt.axis(\"off\")\n",
    "plt.show()"
   ]
  },
  {
   "cell_type": "markdown",
   "id": "5bdc62ff",
   "metadata": {
    "hideCode": false,
    "hidePrompt": false
   },
   "source": [
    "# Number of countries donations come from"
   ]
  },
  {
   "cell_type": "code",
   "execution_count": 25,
   "id": "917490eb",
   "metadata": {
    "hideCode": false,
    "hidePrompt": false
   },
   "outputs": [
    {
     "data": {
      "text/plain": [
       "11"
      ]
     },
     "execution_count": 25,
     "metadata": {},
     "output_type": "execute_result"
    }
   ],
   "source": [
    "df['Country'].nunique()"
   ]
  },
  {
   "cell_type": "markdown",
   "id": "60f2fb07",
   "metadata": {
    "hideCode": false,
    "hidePrompt": false
   },
   "source": [
    "# And we have regular supporters with subscription amount"
   ]
  },
  {
   "cell_type": "code",
   "execution_count": 26,
   "id": "3e999f51",
   "metadata": {
    "hideCode": false,
    "hidePrompt": false
   },
   "outputs": [
    {
     "data": {
      "text/plain": [
       "'$20.75'"
      ]
     },
     "execution_count": 26,
     "metadata": {},
     "output_type": "execute_result"
    }
   ],
   "source": [
    "'${:,.2f}'.format(df.loc[df['Type'] == 'Subscription Payment', 'Net'].sum().round(2))\n"
   ]
  }
 ],
 "metadata": {
  "hide_code_all_hidden": false,
  "kernelspec": {
   "display_name": "Python 3 (ipykernel)",
   "language": "python",
   "name": "python3"
  },
  "language_info": {
   "codemirror_mode": {
    "name": "ipython",
    "version": 3
   },
   "file_extension": ".py",
   "mimetype": "text/x-python",
   "name": "python",
   "nbconvert_exporter": "python",
   "pygments_lexer": "ipython3",
   "version": "3.10.9"
  }
 },
 "nbformat": 4,
 "nbformat_minor": 5
}
