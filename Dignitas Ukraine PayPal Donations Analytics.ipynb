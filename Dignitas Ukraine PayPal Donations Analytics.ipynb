{
 "cells": [
  {
   "cell_type": "markdown",
   "id": "4623426d",
   "metadata": {
    "hideCode": false,
    "hidePrompt": false
   },
   "source": [
    "# Dignitas Ukraine PayPal Donations Analytics"
   ]
  },
  {
   "cell_type": "code",
   "execution_count": 29,
   "id": "92194cbe",
   "metadata": {
    "hideCode": false,
    "hidePrompt": false
   },
   "outputs": [],
   "source": [
    "import pandas as pd\n",
    "\n",
    "df = pd.read_excel('./data/PayPal Donations All.xlsx', sheet_name='Sheet1',index_col=None, \n",
    "                   usecols = 'A, E, G, I, J, N, Q')\n",
    "df = df.fillna('Not specified')\n",
    "df = df[df['Gross']>0]\n",
    "#print(df.to_string(max_rows=10)) "
   ]
  },
  {
   "cell_type": "markdown",
   "id": "3631d1d5",
   "metadata": {
    "hideCode": false,
    "hidePrompt": false
   },
   "source": [
    "## Number of donations by country"
   ]
  },
  {
   "cell_type": "code",
   "execution_count": 2,
   "id": "b8d48aa8",
   "metadata": {
    "hideCode": false,
    "hidePrompt": false
   },
   "outputs": [
    {
     "data": {
      "text/html": [
       "<div>\n",
       "<style scoped>\n",
       "    .dataframe tbody tr th:only-of-type {\n",
       "        vertical-align: middle;\n",
       "    }\n",
       "\n",
       "    .dataframe tbody tr th {\n",
       "        vertical-align: top;\n",
       "    }\n",
       "\n",
       "    .dataframe thead th {\n",
       "        text-align: right;\n",
       "    }\n",
       "</style>\n",
       "<table border=\"1\" class=\"dataframe\">\n",
       "  <thead>\n",
       "    <tr style=\"text-align: right;\">\n",
       "      <th></th>\n",
       "      <th>count</th>\n",
       "    </tr>\n",
       "    <tr>\n",
       "      <th>Country</th>\n",
       "      <th></th>\n",
       "    </tr>\n",
       "  </thead>\n",
       "  <tbody>\n",
       "    <tr>\n",
       "      <th>United States</th>\n",
       "      <td>52</td>\n",
       "    </tr>\n",
       "    <tr>\n",
       "      <th>Not specified</th>\n",
       "      <td>26</td>\n",
       "    </tr>\n",
       "    <tr>\n",
       "      <th>Germany</th>\n",
       "      <td>14</td>\n",
       "    </tr>\n",
       "    <tr>\n",
       "      <th>Poland</th>\n",
       "      <td>5</td>\n",
       "    </tr>\n",
       "    <tr>\n",
       "      <th>United Kingdom</th>\n",
       "      <td>4</td>\n",
       "    </tr>\n",
       "    <tr>\n",
       "      <th>Ukraine</th>\n",
       "      <td>3</td>\n",
       "    </tr>\n",
       "    <tr>\n",
       "      <th>France</th>\n",
       "      <td>2</td>\n",
       "    </tr>\n",
       "    <tr>\n",
       "      <th>Canada</th>\n",
       "      <td>2</td>\n",
       "    </tr>\n",
       "    <tr>\n",
       "      <th>Finland</th>\n",
       "      <td>2</td>\n",
       "    </tr>\n",
       "    <tr>\n",
       "      <th>Denmark</th>\n",
       "      <td>1</td>\n",
       "    </tr>\n",
       "    <tr>\n",
       "      <th>Italy</th>\n",
       "      <td>1</td>\n",
       "    </tr>\n",
       "    <tr>\n",
       "      <th>Belgium</th>\n",
       "      <td>1</td>\n",
       "    </tr>\n",
       "    <tr>\n",
       "      <th>Switzerland</th>\n",
       "      <td>1</td>\n",
       "    </tr>\n",
       "    <tr>\n",
       "      <th>Estonia</th>\n",
       "      <td>1</td>\n",
       "    </tr>\n",
       "    <tr>\n",
       "      <th>Austria</th>\n",
       "      <td>1</td>\n",
       "    </tr>\n",
       "  </tbody>\n",
       "</table>\n",
       "</div>"
      ],
      "text/plain": [
       "                count\n",
       "Country              \n",
       "United States      52\n",
       "Not specified      26\n",
       "Germany            14\n",
       "Poland              5\n",
       "United Kingdom      4\n",
       "Ukraine             3\n",
       "France              2\n",
       "Canada              2\n",
       "Finland             2\n",
       "Denmark             1\n",
       "Italy               1\n",
       "Belgium             1\n",
       "Switzerland         1\n",
       "Estonia             1\n",
       "Austria             1"
      ]
     },
     "execution_count": 2,
     "metadata": {},
     "output_type": "execute_result"
    }
   ],
   "source": [
    "pd.DataFrame(df['Country'].value_counts())"
   ]
  },
  {
   "cell_type": "markdown",
   "id": "1e10e2cd",
   "metadata": {
    "hideCode": false,
    "hidePrompt": false
   },
   "source": [
    "## Totally raised"
   ]
  },
  {
   "cell_type": "code",
   "execution_count": 3,
   "id": "b896862f",
   "metadata": {
    "hideCode": false,
    "hidePrompt": false
   },
   "outputs": [
    {
     "data": {
      "text/plain": [
       "'$6,360.08'"
      ]
     },
     "execution_count": 3,
     "metadata": {},
     "output_type": "execute_result"
    }
   ],
   "source": [
    "'${:,.2f}'.format(df['Net'].sum())"
   ]
  },
  {
   "cell_type": "markdown",
   "id": "0834aac1",
   "metadata": {
    "hideCode": false,
    "hidePrompt": false
   },
   "source": [
    "## Donations stats"
   ]
  },
  {
   "cell_type": "code",
   "execution_count": 4,
   "id": "4fcba34e",
   "metadata": {
    "hideCode": false,
    "hidePrompt": false
   },
   "outputs": [
    {
     "data": {
      "text/html": [
       "<div>\n",
       "<style scoped>\n",
       "    .dataframe tbody tr th:only-of-type {\n",
       "        vertical-align: middle;\n",
       "    }\n",
       "\n",
       "    .dataframe tbody tr th {\n",
       "        vertical-align: top;\n",
       "    }\n",
       "\n",
       "    .dataframe thead th {\n",
       "        text-align: right;\n",
       "    }\n",
       "</style>\n",
       "<table border=\"1\" class=\"dataframe\">\n",
       "  <thead>\n",
       "    <tr style=\"text-align: right;\">\n",
       "      <th></th>\n",
       "      <th>Gross</th>\n",
       "    </tr>\n",
       "  </thead>\n",
       "  <tbody>\n",
       "    <tr>\n",
       "      <th>count</th>\n",
       "      <td>120.0</td>\n",
       "    </tr>\n",
       "    <tr>\n",
       "      <th>mean</th>\n",
       "      <td>60.0</td>\n",
       "    </tr>\n",
       "    <tr>\n",
       "      <th>std</th>\n",
       "      <td>60.0</td>\n",
       "    </tr>\n",
       "    <tr>\n",
       "      <th>min</th>\n",
       "      <td>0.0</td>\n",
       "    </tr>\n",
       "    <tr>\n",
       "      <th>25%</th>\n",
       "      <td>10.0</td>\n",
       "    </tr>\n",
       "    <tr>\n",
       "      <th>50%</th>\n",
       "      <td>30.0</td>\n",
       "    </tr>\n",
       "    <tr>\n",
       "      <th>75%</th>\n",
       "      <td>100.0</td>\n",
       "    </tr>\n",
       "    <tr>\n",
       "      <th>max</th>\n",
       "      <td>310.0</td>\n",
       "    </tr>\n",
       "  </tbody>\n",
       "</table>\n",
       "</div>"
      ],
      "text/plain": [
       "       Gross\n",
       "count  120.0\n",
       "mean    60.0\n",
       "std     60.0\n",
       "min      0.0\n",
       "25%     10.0\n",
       "50%     30.0\n",
       "75%    100.0\n",
       "max    310.0"
      ]
     },
     "execution_count": 4,
     "metadata": {},
     "output_type": "execute_result"
    }
   ],
   "source": [
    "#'${:,.2f}'.format(round(df['Net'].median(), 0))\n",
    "pd.DataFrame(round(df['Gross'].describe()/10)*10)"
   ]
  },
  {
   "cell_type": "markdown",
   "id": "de5a3033",
   "metadata": {
    "hideCode": false,
    "hidePrompt": false
   },
   "source": [
    "## Most common donation amounts"
   ]
  },
  {
   "cell_type": "code",
   "execution_count": 5,
   "id": "26720cd6",
   "metadata": {
    "hideCode": false,
    "hidePrompt": false
   },
   "outputs": [
    {
     "data": {
      "text/html": [
       "<div>\n",
       "<style scoped>\n",
       "    .dataframe tbody tr th:only-of-type {\n",
       "        vertical-align: middle;\n",
       "    }\n",
       "\n",
       "    .dataframe tbody tr th {\n",
       "        vertical-align: top;\n",
       "    }\n",
       "\n",
       "    .dataframe thead th {\n",
       "        text-align: right;\n",
       "    }\n",
       "</style>\n",
       "<table border=\"1\" class=\"dataframe\">\n",
       "  <thead>\n",
       "    <tr style=\"text-align: right;\">\n",
       "      <th></th>\n",
       "      <th>Frequency</th>\n",
       "    </tr>\n",
       "    <tr>\n",
       "      <th>Amount</th>\n",
       "      <th></th>\n",
       "    </tr>\n",
       "  </thead>\n",
       "  <tbody>\n",
       "    <tr>\n",
       "      <th>100.0</th>\n",
       "      <td>24</td>\n",
       "    </tr>\n",
       "    <tr>\n",
       "      <th>10.0</th>\n",
       "      <td>16</td>\n",
       "    </tr>\n",
       "    <tr>\n",
       "      <th>50.0</th>\n",
       "      <td>16</td>\n",
       "    </tr>\n",
       "    <tr>\n",
       "      <th>20.0</th>\n",
       "      <td>12</td>\n",
       "    </tr>\n",
       "    <tr>\n",
       "      <th>30.0</th>\n",
       "      <td>9</td>\n",
       "    </tr>\n",
       "  </tbody>\n",
       "</table>\n",
       "</div>"
      ],
      "text/plain": [
       "        Frequency\n",
       "Amount           \n",
       "100.0          24\n",
       "10.0           16\n",
       "50.0           16\n",
       "20.0           12\n",
       "30.0            9"
      ]
     },
     "execution_count": 5,
     "metadata": {},
     "output_type": "execute_result"
    }
   ],
   "source": [
    "from collections import Counter\n",
    "\n",
    "most_common = pd.DataFrame(Counter(df['Gross']).most_common(10),columns =['Amount', 'Frequency'])\n",
    "most_common['Amount'] = round(most_common['Amount'] / 10)*10\n",
    "most_common = most_common.groupby('Amount').sum().sort_values(by='Frequency', ascending = False)\n",
    "most_common[most_common.index > 0]\n",
    "     #[most_common['Amount']>0]"
   ]
  },
  {
   "cell_type": "markdown",
   "id": "682a7e7b",
   "metadata": {
    "hideCode": false,
    "hidePrompt": false
   },
   "source": [
    "## Median daily donation amount"
   ]
  },
  {
   "cell_type": "code",
   "execution_count": 6,
   "id": "749cd99a",
   "metadata": {
    "hideCode": false,
    "hidePrompt": false
   },
   "outputs": [
    {
     "data": {
      "text/plain": [
       "'$155.12'"
      ]
     },
     "execution_count": 6,
     "metadata": {},
     "output_type": "execute_result"
    }
   ],
   "source": [
    "'${:,.2f}'.format(round(df['Net'].groupby(df['Date'].dt.to_period('D')).sum().median(), 2))"
   ]
  },
  {
   "cell_type": "markdown",
   "id": "8d8da41d",
   "metadata": {
    "hideCode": false,
    "hidePrompt": false
   },
   "source": [
    "## Donations by date"
   ]
  },
  {
   "cell_type": "code",
   "execution_count": 7,
   "id": "4c34799b",
   "metadata": {
    "hideCode": false,
    "hidePrompt": false
   },
   "outputs": [
    {
     "data": {
      "image/png": "[encoded data removed]",
      "text/plain": [
       "<Figure size 640x480 with 1 Axes>"
      ]
     },
     "metadata": {},
     "output_type": "display_data"
    }
   ],
   "source": [
    "import warnings\n",
    "warnings.filterwarnings('ignore')\n",
    "\n",
    "import matplotlib.pyplot as plt\n",
    "fig, ax = plt.subplots()\n",
    "\n",
    "\n",
    "df['Net'].groupby(df['Date'].dt.to_period('D')).sum().plot(kind='bar', xlabel='')\n",
    "\n",
    "# dollar ticks\n",
    "ax.yaxis.set_major_formatter('${x:,.0f}')\n",
    "ax.yaxis.set_tick_params(which='major', labelcolor='green',\n",
    "                         labelleft=True, labelright=False)\n",
    "plt.show()"
   ]
  },
  {
   "cell_type": "markdown",
   "id": "fa8a7563",
   "metadata": {
    "hideCode": false,
    "hidePrompt": false
   },
   "source": [
    "## Contributions by initiative"
   ]
  },
  {
   "cell_type": "code",
   "execution_count": 8,
   "id": "a0cb07de",
   "metadata": {
    "hideCode": false,
    "hidePrompt": false
   },
   "outputs": [
    {
     "data": {
      "text/html": [
       "<div>\n",
       "<style scoped>\n",
       "    .dataframe tbody tr th:only-of-type {\n",
       "        vertical-align: middle;\n",
       "    }\n",
       "\n",
       "    .dataframe tbody tr th {\n",
       "        vertical-align: top;\n",
       "    }\n",
       "\n",
       "    .dataframe thead th {\n",
       "        text-align: right;\n",
       "    }\n",
       "</style>\n",
       "<table border=\"1\" class=\"dataframe\">\n",
       "  <thead>\n",
       "    <tr style=\"text-align: right;\">\n",
       "      <th></th>\n",
       "      <th>Net</th>\n",
       "    </tr>\n",
       "    <tr>\n",
       "      <th>Custom Number</th>\n",
       "      <th></th>\n",
       "    </tr>\n",
       "  </thead>\n",
       "  <tbody>\n",
       "    <tr>\n",
       "      <th>GeneralPage</th>\n",
       "      <td>4447.98</td>\n",
       "    </tr>\n",
       "    <tr>\n",
       "      <th>1000DRONES</th>\n",
       "      <td>1263.00</td>\n",
       "    </tr>\n",
       "    <tr>\n",
       "      <th>Not specified</th>\n",
       "      <td>398.70</td>\n",
       "    </tr>\n",
       "    <tr>\n",
       "      <th>PI:P3955QUGGX35E|PT:DB|CD:GeneralPage</th>\n",
       "      <td>118.27</td>\n",
       "    </tr>\n",
       "    <tr>\n",
       "      <th>PI:6S4GY9G8MXRYJ|PT:DB|CD:VictoryDrones</th>\n",
       "      <td>100.00</td>\n",
       "    </tr>\n",
       "    <tr>\n",
       "      <th>Veteranius</th>\n",
       "      <td>29.22</td>\n",
       "    </tr>\n",
       "    <tr>\n",
       "      <th>MobileShowers</th>\n",
       "      <td>2.91</td>\n",
       "    </tr>\n",
       "  </tbody>\n",
       "</table>\n",
       "</div>"
      ],
      "text/plain": [
       "                                             Net\n",
       "Custom Number                                   \n",
       "GeneralPage                              4447.98\n",
       "1000DRONES                               1263.00\n",
       "Not specified                             398.70\n",
       "PI:P3955QUGGX35E|PT:DB|CD:GeneralPage     118.27\n",
       "PI:6S4GY9G8MXRYJ|PT:DB|CD:VictoryDrones   100.00\n",
       "Veteranius                                 29.22\n",
       "MobileShowers                               2.91"
      ]
     },
     "execution_count": 8,
     "metadata": {},
     "output_type": "execute_result"
    }
   ],
   "source": [
    "pd.DataFrame(df.groupby('Custom Number').sum('Net').sort_values(by='Net', ascending=False)['Net'])"
   ]
  },
  {
   "cell_type": "markdown",
   "id": "97a4c8b1",
   "metadata": {
    "hideCode": false,
    "hidePrompt": false
   },
   "source": [
    "## Contributions by country"
   ]
  },
  {
   "cell_type": "code",
   "execution_count": 9,
   "id": "3284ade1",
   "metadata": {
    "hideCode": false,
    "hidePrompt": false
   },
   "outputs": [
    {
     "data": {
      "image/svg+xml": [
       "<svg class=\"main-svg\" xmlns=\"http://www.w3.org/2000/svg\" xmlns:xlink=\"http://www.w3.org/1999/xlink\" width=\"700\" height=\"500\" style=\"\" viewBox=\"0 0 700 500\"><rect x=\"0\" y=\"0\" width=\"700\" height=\"500\" style=\"fill: rgb(255, 255, 255); fill-opacity: 1;\"/><defs id=\"defs-5ce595\"><g class=\"clips\"/><g class=\"gradients\"/><g class=\"patterns\"/></defs><g class=\"bglayer\"/><g class=\"layer-below\"><g class=\"imagelayer\"/><g class=\"shapelayer\"/></g><g class=\"cartesianlayer\"/><g class=\"polarlayer\"/><g class=\"smithlayer\"/><g class=\"ternarylayer\"/><g class=\"geolayer\"/><g class=\"funnelarealayer\"/><g class=\"pielayer\"><g class=\"trace\" stroke-linejoin=\"round\" style=\"opacity: 1;\"><g class=\"slice\"><path class=\"surface\" d=\"M350,240l0,-180a180,180 0 1 1 -65.32022250820955,347.7297484988218Z\" style=\"pointer-events: all; stroke-width: 0; fill: rgb(99, 110, 250); fill-opacity: 1; stroke: rgb(68, 68, 68); stroke-opacity: 1;\"/><g class=\"slicetext\"><text data-notex=\"1\" class=\"slicetext\" transform=\"translate(438.4529216093142,253.56098759240928)\" text-anchor=\"middle\" x=\"0\" y=\"0\" style=\"font-family: 'Open Sans', verdana, arial, sans-serif; font-size: 12px; fill: rgb(255, 255, 255); fill-opacity: 1; white-space: pre;\"><tspan class=\"line\" dy=\"0em\" x=\"0\" y=\"0\">United States</tspan><tspan class=\"line\" dy=\"1.3em\" x=\"0\" y=\"0\">55.9%</tspan></text></g></g><g class=\"slice\"><path class=\"surface\" d=\"M350,240l-167.9473112759504,-64.75878809226613a180,180 0 0 1 167.9473112759504,-115.24121190773387Z\" style=\"pointer-events: all; stroke-width: 0; fill: rgb(239, 85, 59); fill-opacity: 1; stroke: rgb(68, 68, 68); stroke-opacity: 1;\"/><g class=\"slicetext\"><text data-notex=\"1\" class=\"slicetext\" transform=\"translate(284.9581941246421,142.15633695499716)\" text-anchor=\"middle\" x=\"0\" y=\"0\" style=\"font-family: 'Open Sans', verdana, arial, sans-serif; font-size: 12px; fill: rgb(68, 68, 68); fill-opacity: 1; white-space: pre;\"><tspan class=\"line\" dy=\"0em\" x=\"0\" y=\"0\">Not specified</tspan><tspan class=\"line\" dy=\"1.3em\" x=\"0\" y=\"0\">19.1%</tspan></text></g></g><g class=\"slice\"><path class=\"surface\" d=\"M350,240l-170.17080791779284,58.66767536391438a180,180 0 0 1 2.223496641842445,-123.4264634561805Z\" style=\"pointer-events: all; stroke-width: 0; fill: rgb(0, 204, 150); fill-opacity: 1; stroke: rgb(68, 68, 68); stroke-opacity: 1;\"/><g class=\"slicetext\"><text data-notex=\"1\" class=\"slicetext\" transform=\"translate(215.98415930174005,234.53105089513707)\" text-anchor=\"middle\" x=\"0\" y=\"0\" style=\"font-family: 'Open Sans', verdana, arial, sans-serif; font-size: 12px; fill: rgb(68, 68, 68); fill-opacity: 1; white-space: pre;\"><tspan class=\"line\" dy=\"0em\" x=\"0\" y=\"0\">Germany</tspan><tspan class=\"line\" dy=\"1.3em\" x=\"0\" y=\"0\">11.1%</tspan></text></g></g><g class=\"slice\"><path class=\"surface\" d=\"M350,240l-144.08883408564353,107.88145295573236a180,180 0 0 1 -26.081973832149316,-49.21377759181798Z\" style=\"pointer-events: all; stroke-width: 0; fill: rgb(171, 99, 250); fill-opacity: 1; stroke: rgb(68, 68, 68); stroke-opacity: 1;\"/><g class=\"slicetext\"><text data-notex=\"1\" class=\"slicetext\" transform=\"translate(229.8394182530653,300.56658230667523)scale(0.9011102601602433)rotate(-27.922382404707832)\" text-anchor=\"middle\" x=\"0\" y=\"0\" style=\"font-family: 'Open Sans', verdana, arial, sans-serif; font-size: 12px; fill: rgb(68, 68, 68); fill-opacity: 1; white-space: pre;\"><tspan class=\"line\" dy=\"0em\" x=\"0\" y=\"0\">United Kingdom</tspan><tspan class=\"line\" dy=\"1.3em\" x=\"0\" y=\"0\">4.94%</tspan></text></g></g><g class=\"slice\"><path class=\"surface\" d=\"M350,240l-116.05625364888613,137.58977428931775a180,180 0 0 1 -28.0325804367574,-29.70832133358539Z\" style=\"pointer-events: all; stroke-width: 0; fill: rgb(255, 161, 90); fill-opacity: 1; stroke: rgb(68, 68, 68); stroke-opacity: 1;\"/><g class=\"slicetext\"><text data-notex=\"1\" class=\"slicetext\" transform=\"translate(232.7177182139543,346.46689409400864)rotate(-43.3376439291136)\" text-anchor=\"middle\" x=\"0\" y=\"0\" style=\"font-family: 'Open Sans', verdana, arial, sans-serif; font-size: 12px; fill: rgb(68, 68, 68); fill-opacity: 1; white-space: pre;\"><tspan class=\"line\" dy=\"0em\" x=\"0\" y=\"0\">Poland</tspan><tspan class=\"line\" dy=\"1.3em\" x=\"0\" y=\"0\">3.62%</tspan></text></g></g><g class=\"slice\"><path class=\"surface\" d=\"M350,240l-89.69825889940317,156.05839404022984a180,180 0 0 1 -26.357994749482955,-18.468619750912097Z\" style=\"pointer-events: all; stroke-width: 0; fill: rgb(25, 211, 243); fill-opacity: 1; stroke: rgb(68, 68, 68); stroke-opacity: 1;\"/><g class=\"slicetext\"><text data-notex=\"1\" class=\"slicetext\" transform=\"translate(255.8418921740058,370.038782464512)scale(0.8155780339570544)rotate(-54.98169396337448)\" text-anchor=\"middle\" x=\"0\" y=\"0\" style=\"font-family: 'Open Sans', verdana, arial, sans-serif; font-size: 12px; fill: rgb(68, 68, 68); fill-opacity: 1; white-space: pre;\"><tspan class=\"line\" dy=\"0em\" x=\"0\" y=\"0\">Canada</tspan><tspan class=\"line\" dy=\"1.3em\" x=\"0\" y=\"0\">2.85%</tspan></text></g></g><g class=\"slice\"><path class=\"surface\" d=\"M350,240l-65.3202225082096,167.72974849882172a180,180 0 0 1 -24.378036391193575,-11.671354458591878Z\" style=\"pointer-events: all; stroke-width: 0; fill: rgb(255, 102, 146); fill-opacity: 1; stroke: rgb(68, 68, 68); stroke-opacity: 1;\"/><g class=\"slicetext\"><text data-notex=\"1\" class=\"slicetext\" transform=\"translate(277.36767750207713,386.6588941508878)scale(0.7137126233721337)rotate(-64.4165244729877)\" text-anchor=\"middle\" x=\"0\" y=\"0\" style=\"font-family: 'Open Sans', verdana, arial, sans-serif; font-size: 12px; fill: rgb(68, 68, 68); fill-opacity: 1; white-space: pre;\"><tspan class=\"line\" dy=\"0em\" x=\"0\" y=\"0\">Finland</tspan><tspan class=\"line\" dy=\"1.3em\" x=\"0\" y=\"0\">2.39%</tspan></text></g></g></g></g><g class=\"iciclelayer\"/><g class=\"treemaplayer\"/><g class=\"sunburstlayer\"/><g class=\"glimages\"/><defs id=\"topdefs-5ce595\"><g class=\"clips\"/></defs><g class=\"layer-above\"><g class=\"imagelayer\"/><g class=\"shapelayer\"/></g><g class=\"infolayer\"><g class=\"g-gtitle\"/></g></svg>"
      ]
     },
     "metadata": {},
     "output_type": "display_data"
    }
   ],
   "source": [
    "import plotly.io as pio\n",
    "pio.renderers \n",
    "import plotly.express as px\n",
    "\n",
    "df_country = df.groupby(df['Country'])['Net'].sum().sort_values(ascending=False).head(7).reset_index(name='Net')\n",
    "fig = px.pie(df_country, values = 'Net', names = 'Country', labels = \"Country\")\n",
    "fig.update_traces(textposition='inside', textinfo='percent+label', showlegend = False)\n",
    "fig.show(renderer='svg')"
   ]
  },
  {
   "cell_type": "markdown",
   "id": "fab4813c",
   "metadata": {
    "hideCode": false,
    "hidePrompt": false
   },
   "source": [
    "## Weekly amounts"
   ]
  },
  {
   "cell_type": "code",
   "execution_count": 10,
   "id": "b5745505",
   "metadata": {
    "hideCode": false,
    "hidePrompt": false
   },
   "outputs": [
    {
     "data": {
      "image/png": "[encoded data removed]",
      "text/plain": [
       "<Figure size 640x480 with 1 Axes>"
      ]
     },
     "metadata": {},
     "output_type": "display_data"
    }
   ],
   "source": [
    "fig, ax = plt.subplots()\n",
    "df_w = df.groupby([pd.Grouper(key='Date', freq='W')])['Net'].sum()\n",
    "\n",
    "# remove time from datetime\n",
    "df_w.index = df_w.index.date\n",
    "\n",
    "# remove next mo data\n",
    "#df_w = df_w[:-1]\n",
    "df_w.plot(kind = 'bar', color = 'green')\n",
    "\n",
    "# dollar ticks\n",
    "ax.yaxis.set_major_formatter('${x:,.0f}')\n",
    "ax.yaxis.set_tick_params(which='major', labelcolor='green')\n",
    "plt.show()"
   ]
  },
  {
   "cell_type": "markdown",
   "id": "d9dfbd39",
   "metadata": {
    "hideCode": false,
    "hidePrompt": false
   },
   "source": [
    "## Cumulatively raised"
   ]
  },
  {
   "cell_type": "code",
   "execution_count": 11,
   "id": "0c71ab56",
   "metadata": {
    "hideCode": false,
    "hidePrompt": false
   },
   "outputs": [
    {
     "data": {
      "image/png": "[encoded data removed]",
      "text/plain": [
       "<Figure size 640x480 with 1 Axes>"
      ]
     },
     "metadata": {},
     "output_type": "display_data"
    }
   ],
   "source": [
    "fig, ax = plt.subplots()\n",
    "\n",
    "df_w.cumsum().plot(kind = 'bar')\n",
    "# dollar ticks\n",
    "ax.yaxis.set_major_formatter('${x:,.0f}')\n",
    "ax.yaxis.set_tick_params(which='major', labelcolor='green',\n",
    "                         labelleft=True, labelright=False)\n",
    "plt.show()"
   ]
  },
  {
   "cell_type": "markdown",
   "id": "a489454d",
   "metadata": {
    "hideCode": false,
    "hidePrompt": false
   },
   "source": [
    "## We are all united"
   ]
  },
  {
   "cell_type": "code",
   "execution_count": 12,
   "id": "31622db7",
   "metadata": {
    "hideCode": false,
    "hidePrompt": false
   },
   "outputs": [
    {
     "data": {
      "image/png": "[encoded data removed]",
      "text/plain": [
       "<Figure size 640x480 with 1 Axes>"
      ]
     },
     "metadata": {},
     "output_type": "display_data"
    }
   ],
   "source": [
    "from wordcloud import WordCloud\n",
    "from wordcloud import ImageColorGenerator\n",
    "from wordcloud import STOPWORDS\n",
    "import matplotlib.pyplot as plt\n",
    "\n",
    "df['Country'] = df['Country'].replace(['United States'], 'USA')\n",
    "df['Country'] = df['Country'].replace(['New Zealand'], 'NZ')\n",
    "df['Country'] = df['Country'].replace(['Not specified'], '')\n",
    "df['Country'] = df['Country'].replace(['Czech Republic'], 'Czech')\n",
    "\n",
    "text = \" \".join(i for i in df['Country'])\n",
    "stopwords = set(STOPWORDS)\n",
    "wordcloud = WordCloud(stopwords=stopwords, background_color=\"white\").generate(text)\n",
    "#plt.figure( figsize=(15,10))\n",
    "\n",
    "plt.imshow(wordcloud, interpolation='bilinear')\n",
    "plt.axis(\"off\")\n",
    "plt.show()"
   ]
  },
  {
   "cell_type": "markdown",
   "id": "5bdc62ff",
   "metadata": {
    "hideCode": false,
    "hidePrompt": false
   },
   "source": [
    "# Number of countries donations come from"
   ]
  },
  {
   "cell_type": "code",
   "execution_count": 13,
   "id": "917490eb",
   "metadata": {
    "hideCode": false,
    "hidePrompt": false
   },
   "outputs": [
    {
     "data": {
      "text/plain": [
       "15"
      ]
     },
     "execution_count": 13,
     "metadata": {},
     "output_type": "execute_result"
    }
   ],
   "source": [
    "df['Country'].nunique()"
   ]
  },
  {
   "cell_type": "markdown",
   "id": "60f2fb07",
   "metadata": {
    "hideCode": false,
    "hidePrompt": false
   },
   "source": [
    "# And we have regular supporters with subscription amount"
   ]
  },
  {
   "cell_type": "code",
   "execution_count": 14,
   "id": "3e999f51",
   "metadata": {
    "hideCode": false,
    "hidePrompt": false
   },
   "outputs": [
    {
     "data": {
      "text/plain": [
       "'$239.02'"
      ]
     },
     "execution_count": 14,
     "metadata": {},
     "output_type": "execute_result"
    }
   ],
   "source": [
    "'${:,.2f}'.format(df.loc[df['Type'] == 'Subscription Payment', 'Net'].sum().round(2))\n"
   ]
  },
  {
   "cell_type": "markdown",
   "id": "5e7c639a",
   "metadata": {
    "hideCode": false,
    "hidePrompt": false
   },
   "source": [
    "## Most frequent comments"
   ]
  },
  {
   "cell_type": "code",
   "execution_count": 28,
   "id": "e2217ef0",
   "metadata": {
    "hideCode": false,
    "hidePrompt": false
   },
   "outputs": [
    {
     "data": {
      "text/html": [
       "<style type=\"text/css\">\n",
       "</style>\n",
       "<table id=\"T_89464\">\n",
       "  <thead>\n",
       "    <tr>\n",
       "      <th id=\"T_89464_level0_col0\" class=\"col_heading level0 col0\" >Note</th>\n",
       "      <th id=\"T_89464_level0_col1\" class=\"col_heading level0 col1\" >frequency</th>\n",
       "    </tr>\n",
       "  </thead>\n",
       "  <tbody>\n",
       "    <tr>\n",
       "      <td id=\"T_89464_row0_col0\" class=\"data row0 col0\" >Not specified</td>\n",
       "      <td id=\"T_89464_row0_col1\" class=\"data row0 col1\" >99</td>\n",
       "    </tr>\n",
       "    <tr>\n",
       "      <td id=\"T_89464_row1_col0\" class=\"data row1 col0\" >Charitable donation</td>\n",
       "      <td id=\"T_89464_row1_col1\" class=\"data row1 col1\" >1</td>\n",
       "    </tr>\n",
       "    <tr>\n",
       "      <td id=\"T_89464_row2_col0\" class=\"data row2 col0\" >test2</td>\n",
       "      <td id=\"T_89464_row2_col1\" class=\"data row2 col1\" >1</td>\n",
       "    </tr>\n",
       "    <tr>\n",
       "      <td id=\"T_89464_row3_col0\" class=\"data row3 col0\" >Люті Пташки</td>\n",
       "      <td id=\"T_89464_row3_col1\" class=\"data row3 col1\" >1</td>\n",
       "    </tr>\n",
       "    <tr>\n",
       "      <td id=\"T_89464_row4_col0\" class=\"data row4 col0\" >Пташки.</td>\n",
       "      <td id=\"T_89464_row4_col1\" class=\"data row4 col1\" >1</td>\n",
       "    </tr>\n",
       "    <tr>\n",
       "      <td id=\"T_89464_row5_col0\" class=\"data row5 col0\" >Летіть соколи!!! Знищіть усю наволоч з Неньки!!</td>\n",
       "      <td id=\"T_89464_row5_col1\" class=\"data row5 col1\" >1</td>\n",
       "    </tr>\n",
       "    <tr>\n",
       "      <td id=\"T_89464_row6_col0\" class=\"data row6 col0\" >З днем народження, Маріє�</td>\n",
       "      <td id=\"T_89464_row6_col1\" class=\"data row6 col1\" >1</td>\n",
       "    </tr>\n",
       "    <tr>\n",
       "      <td id=\"T_89464_row7_col0\" class=\"data row7 col0\" >charity</td>\n",
       "      <td id=\"T_89464_row7_col1\" class=\"data row7 col1\" >1</td>\n",
       "    </tr>\n",
       "    <tr>\n",
       "      <td id=\"T_89464_row8_col0\" class=\"data row8 col0\" >Charitable donation to Ukrainian defenders</td>\n",
       "      <td id=\"T_89464_row8_col1\" class=\"data row8 col1\" >1</td>\n",
       "    </tr>\n",
       "    <tr>\n",
       "      <td id=\"T_89464_row9_col0\" class=\"data row9 col0\" >На люті пташки</td>\n",
       "      <td id=\"T_89464_row9_col1\" class=\"data row9 col1\" >1</td>\n",
       "    </tr>\n",
       "    <tr>\n",
       "      <td id=\"T_89464_row10_col0\" class=\"data row10 col0\" >Maria’s Birthday</td>\n",
       "      <td id=\"T_89464_row10_col1\" class=\"data row10 col1\" >1</td>\n",
       "    </tr>\n",
       "    <tr>\n",
       "      <td id=\"T_89464_row11_col0\" class=\"data row11 col0\" >З Днем Народження, Маріє!</td>\n",
       "      <td id=\"T_89464_row11_col1\" class=\"data row11 col1\" >1</td>\n",
       "    </tr>\n",
       "    <tr>\n",
       "      <td id=\"T_89464_row12_col0\" class=\"data row12 col0\" >Happy Birthday, Mariya!</td>\n",
       "      <td id=\"T_89464_row12_col1\" class=\"data row12 col1\" >1</td>\n",
       "    </tr>\n",
       "    <tr>\n",
       "      <td id=\"T_89464_row13_col0\" class=\"data row13 col0\" >For Ukraine</td>\n",
       "      <td id=\"T_89464_row13_col1\" class=\"data row13 col1\" >1</td>\n",
       "    </tr>\n",
       "    <tr>\n",
       "      <td id=\"T_89464_row14_col0\" class=\"data row14 col0\" >Dlja Peremohy Ukrajni</td>\n",
       "      <td id=\"T_89464_row14_col1\" class=\"data row14 col1\" >1</td>\n",
       "    </tr>\n",
       "    <tr>\n",
       "      <td id=\"T_89464_row15_col0\" class=\"data row15 col0\" >Ukraine Strong</td>\n",
       "      <td id=\"T_89464_row15_col1\" class=\"data row15 col1\" >1</td>\n",
       "    </tr>\n",
       "    <tr>\n",
       "      <td id=\"T_89464_row16_col0\" class=\"data row16 col0\" >Liuti ptashky</td>\n",
       "      <td id=\"T_89464_row16_col1\" class=\"data row16 col1\" >1</td>\n",
       "    </tr>\n",
       "    <tr>\n",
       "      <td id=\"T_89464_row17_col0\" class=\"data row17 col0\" >За каховську ГЕС</td>\n",
       "      <td id=\"T_89464_row17_col1\" class=\"data row17 col1\" >1</td>\n",
       "    </tr>\n",
       "  </tbody>\n",
       "</table>\n"
      ],
      "text/plain": [
       "<pandas.io.formats.style.Styler at 0x7fbcd24c86d0>"
      ]
     },
     "execution_count": 28,
     "metadata": {},
     "output_type": "execute_result"
    }
   ],
   "source": [
    "pd.DataFrame(Counter(df['Note'].dropna()).most_common(18), columns=['Note', 'frequency']).style.hide(axis='index')\n",
    "#df.columns"
   ]
  },
  {
   "cell_type": "markdown",
   "id": "8ecb3851",
   "metadata": {
    "hideCode": false,
    "hidePrompt": false
   },
   "source": [
    "# Are you joining Dignitas Ukraine Donors?!"
   ]
  }
 ],
 "metadata": {
  "hide_code_all_hidden": false,
  "kernelspec": {
   "display_name": "Python 3 (ipykernel)",
   "language": "python",
   "name": "python3"
  },
  "language_info": {
   "codemirror_mode": {
    "name": "ipython",
    "version": 3
   },
   "file_extension": ".py",
   "mimetype": "text/x-python",
   "name": "python",
   "nbconvert_exporter": "python",
   "pygments_lexer": "ipython3",
   "version": "3.10.9"
  }
 },
 "nbformat": 4,
 "nbformat_minor": 5
}
